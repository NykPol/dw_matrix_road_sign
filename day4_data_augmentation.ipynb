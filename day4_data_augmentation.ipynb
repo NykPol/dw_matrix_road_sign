{
  "nbformat": 4,
  "nbformat_minor": 0,
  "metadata": {
    "colab": {
      "name": "day4_data_augmentation.ipynb",
      "provenance": [],
      "collapsed_sections": [],
      "mount_file_id": "14_Fyvbww2dy6gcq6onDvzXZF0fcvjvZ_",
      "authorship_tag": "ABX9TyP513IBk0MOtE+/y6HO5qnU",
      "include_colab_link": true
    },
    "kernelspec": {
      "name": "python3",
      "display_name": "Python 3"
    },
    "accelerator": "GPU"
  },
  "cells": [
    {
      "cell_type": "markdown",
      "metadata": {
        "id": "view-in-github",
        "colab_type": "text"
      },
      "source": [
        "<a href=\"https://colab.research.google.com/github/NykPol/dw_matrix_road_sign/blob/master/day4_data_augmentation.ipynb\" target=\"_parent\"><img src=\"https://colab.research.google.com/assets/colab-badge.svg\" alt=\"Open In Colab\"/></a>"
      ]
    },
    {
      "cell_type": "code",
      "metadata": {
        "id": "04BkaueVdwkR",
        "colab_type": "code",
        "outputId": "c8df1591-efa2-401f-806b-af22c7ea8f0d",
        "colab": {
          "base_uri": "https://localhost:8080/",
          "height": 52
        }
      },
      "source": [
        "import pandas as pd\n",
        "import matplotlib.pyplot as plt\n",
        "from skimage import color,exposure\n",
        "import numpy as np\n",
        "import os\n",
        "import datetime\n",
        "\n",
        "import tensorflow as tf\n",
        "from tensorflow.keras.models import Sequential\n",
        "from tensorflow.keras.layers import Conv2D, MaxPool2D, Dense, Flatten, Dropout\n",
        "from tensorflow.keras.utils import to_categorical\n",
        "\n",
        "from sklearn.metrics import accuracy_score\n",
        "\n",
        "%load_ext tensorboard"
      ],
      "execution_count": 40,
      "outputs": [
        {
          "output_type": "stream",
          "text": [
            "The tensorboard extension is already loaded. To reload it, use:\n",
            "  %reload_ext tensorboard\n"
          ],
          "name": "stdout"
        }
      ]
    },
    {
      "cell_type": "code",
      "metadata": {
        "id": "7U7D9q9meJ1a",
        "colab_type": "code",
        "outputId": "3d440d63-5e02-4659-b00e-fa86e2c575a5",
        "colab": {
          "base_uri": "https://localhost:8080/",
          "height": 34
        }
      },
      "source": [
        "cd '/content/drive/My Drive/Colab Notebooks/matrix/matrix_three/dw_matrix_road_sign'"
      ],
      "execution_count": 2,
      "outputs": [
        {
          "output_type": "stream",
          "text": [
            "/content/drive/My Drive/Colab Notebooks/matrix/matrix_three/dw_matrix_road_sign\n"
          ],
          "name": "stdout"
        }
      ]
    },
    {
      "cell_type": "code",
      "metadata": {
        "id": "VWSSPiMveQpe",
        "colab_type": "code",
        "outputId": "b1be1353-6547-4207-ef06-79305e7ac865",
        "colab": {
          "base_uri": "https://localhost:8080/",
          "height": 34
        }
      },
      "source": [
        "ls data"
      ],
      "execution_count": 3,
      "outputs": [
        {
          "output_type": "stream",
          "text": [
            "signnames.csv  test.p  train.p\n"
          ],
          "name": "stdout"
        }
      ]
    },
    {
      "cell_type": "code",
      "metadata": {
        "id": "D4SsL6Z9eRmQ",
        "colab_type": "code",
        "colab": {}
      },
      "source": [
        "train = pd.read_pickle('data/train.p')\n",
        "test = pd.read_pickle('data/test.p')\n",
        "\n",
        "X_train, y_train = train['features'], train['labels']\n",
        "X_test, y_test = test ['features'], test ['labels']\n",
        "\n",
        "df = pd.read_csv('data/signnames.csv')\n",
        "lables_dict = df.to_dict()['b']"
      ],
      "execution_count": 0,
      "outputs": []
    },
    {
      "cell_type": "code",
      "metadata": {
        "id": "Opdl6A7h8KXM",
        "colab_type": "code",
        "outputId": "6169f8e4-090e-453b-cfe6-22fbb295fd4d",
        "colab": {
          "base_uri": "https://localhost:8080/",
          "height": 34
        }
      },
      "source": [
        "y_train "
      ],
      "execution_count": 5,
      "outputs": [
        {
          "output_type": "execute_result",
          "data": {
            "text/plain": [
              "array([41, 41, 41, ..., 25, 25, 25], dtype=uint8)"
            ]
          },
          "metadata": {
            "tags": []
          },
          "execution_count": 5
        }
      ]
    },
    {
      "cell_type": "code",
      "metadata": {
        "id": "lwsIr9Jy8MHT",
        "colab_type": "code",
        "outputId": "fe86cb7c-5204-4148-9c90-183d9bca4617",
        "colab": {
          "base_uri": "https://localhost:8080/",
          "height": 34
        }
      },
      "source": [
        "len(np.unique(y_train))"
      ],
      "execution_count": 6,
      "outputs": [
        {
          "output_type": "execute_result",
          "data": {
            "text/plain": [
              "43"
            ]
          },
          "metadata": {
            "tags": []
          },
          "execution_count": 6
        }
      ]
    },
    {
      "cell_type": "code",
      "metadata": {
        "id": "z1M1NGGt8bNA",
        "colab_type": "code",
        "outputId": "94b83571-d64f-4a0a-99fc-e66b96a9feef",
        "colab": {
          "base_uri": "https://localhost:8080/",
          "height": 70
        }
      },
      "source": [
        "to_categorical(y_train)[0]"
      ],
      "execution_count": 7,
      "outputs": [
        {
          "output_type": "execute_result",
          "data": {
            "text/plain": [
              "array([0., 0., 0., 0., 0., 0., 0., 0., 0., 0., 0., 0., 0., 0., 0., 0., 0.,\n",
              "       0., 0., 0., 0., 0., 0., 0., 0., 0., 0., 0., 0., 0., 0., 0., 0., 0.,\n",
              "       0., 0., 0., 0., 0., 0., 0., 1., 0.], dtype=float32)"
            ]
          },
          "metadata": {
            "tags": []
          },
          "execution_count": 7
        }
      ]
    },
    {
      "cell_type": "code",
      "metadata": {
        "id": "0hVgQvOQ8s7P",
        "colab_type": "code",
        "outputId": "32663664-df3b-40d1-8730-1e165a98a77e",
        "colab": {
          "base_uri": "https://localhost:8080/",
          "height": 70
        }
      },
      "source": [
        "to_categorical(y_train)[-1]"
      ],
      "execution_count": 8,
      "outputs": [
        {
          "output_type": "execute_result",
          "data": {
            "text/plain": [
              "array([0., 0., 0., 0., 0., 0., 0., 0., 0., 0., 0., 0., 0., 0., 0., 0., 0.,\n",
              "       0., 0., 0., 0., 0., 0., 0., 0., 1., 0., 0., 0., 0., 0., 0., 0., 0.,\n",
              "       0., 0., 0., 0., 0., 0., 0., 0., 0.], dtype=float32)"
            ]
          },
          "metadata": {
            "tags": []
          },
          "execution_count": 8
        }
      ]
    },
    {
      "cell_type": "code",
      "metadata": {
        "id": "zpCge6pK8Prq",
        "colab_type": "code",
        "outputId": "c1194ba5-6ba1-46ae-d793-c0f0ec2c7876",
        "colab": {
          "base_uri": "https://localhost:8080/",
          "height": 70
        }
      },
      "source": [
        "np.unique(y_train)"
      ],
      "execution_count": 9,
      "outputs": [
        {
          "output_type": "execute_result",
          "data": {
            "text/plain": [
              "array([ 0,  1,  2,  3,  4,  5,  6,  7,  8,  9, 10, 11, 12, 13, 14, 15, 16,\n",
              "       17, 18, 19, 20, 21, 22, 23, 24, 25, 26, 27, 28, 29, 30, 31, 32, 33,\n",
              "       34, 35, 36, 37, 38, 39, 40, 41, 42], dtype=uint8)"
            ]
          },
          "metadata": {
            "tags": []
          },
          "execution_count": 9
        }
      ]
    },
    {
      "cell_type": "code",
      "metadata": {
        "id": "uWKNRaI38qXd",
        "colab_type": "code",
        "colab": {}
      },
      "source": [
        "if y_train.ndim == 1: y_train = to_categorical(y_train)\n",
        "if y_test.ndim == 1: y_test = to_categorical(y_test)"
      ],
      "execution_count": 0,
      "outputs": []
    },
    {
      "cell_type": "code",
      "metadata": {
        "id": "_O7bQM1c844E",
        "colab_type": "code",
        "outputId": "467d8dc6-28b4-48f3-8c0f-b95ff7447715",
        "colab": {
          "base_uri": "https://localhost:8080/",
          "height": 34
        }
      },
      "source": [
        "y_train.shape"
      ],
      "execution_count": 11,
      "outputs": [
        {
          "output_type": "execute_result",
          "data": {
            "text/plain": [
              "(34799, 43)"
            ]
          },
          "metadata": {
            "tags": []
          },
          "execution_count": 11
        }
      ]
    },
    {
      "cell_type": "code",
      "metadata": {
        "id": "ARlp1aDc9cIK",
        "colab_type": "code",
        "outputId": "dee8c8f4-7f5f-4b51-fdd0-f09cf4c562be",
        "colab": {
          "base_uri": "https://localhost:8080/",
          "height": 34
        }
      },
      "source": [
        "X_train.shape"
      ],
      "execution_count": 12,
      "outputs": [
        {
          "output_type": "execute_result",
          "data": {
            "text/plain": [
              "(34799, 32, 32, 3)"
            ]
          },
          "metadata": {
            "tags": []
          },
          "execution_count": 12
        }
      ]
    },
    {
      "cell_type": "code",
      "metadata": {
        "id": "A_uubd809fv9",
        "colab_type": "code",
        "colab": {}
      },
      "source": [
        "input_shape = X_train.shape[1:]\n",
        "num_classes = y_train.shape[1]"
      ],
      "execution_count": 0,
      "outputs": []
    },
    {
      "cell_type": "code",
      "metadata": {
        "id": "-l_D-Lal9JWh",
        "colab_type": "code",
        "outputId": "c6d1270d-b540-491c-a51f-83d455860e78",
        "colab": {
          "base_uri": "https://localhost:8080/",
          "height": 304
        }
      },
      "source": [
        "model = Sequential([\n",
        "  Conv2D(filters=64, kernel_size=(3,3), activation='relu', input_shape=input_shape),\n",
        "  Flatten(),\n",
        "  Dense(num_classes, activation='softmax'),\n",
        "\n",
        "\n",
        "\n",
        "\n",
        "])\n",
        "model.summary()\n",
        "model.compile(loss='categorical_crossentropy',metrics=['accuracy'],optimizer='Adam')\n",
        "model.fit(X_train,y_train)"
      ],
      "execution_count": 14,
      "outputs": [
        {
          "output_type": "stream",
          "text": [
            "Model: \"sequential\"\n",
            "_________________________________________________________________\n",
            "Layer (type)                 Output Shape              Param #   \n",
            "=================================================================\n",
            "conv2d (Conv2D)              (None, 30, 30, 64)        1792      \n",
            "_________________________________________________________________\n",
            "flatten (Flatten)            (None, 57600)             0         \n",
            "_________________________________________________________________\n",
            "dense (Dense)                (None, 43)                2476843   \n",
            "=================================================================\n",
            "Total params: 2,478,635\n",
            "Trainable params: 2,478,635\n",
            "Non-trainable params: 0\n",
            "_________________________________________________________________\n",
            "1088/1088 [==============================] - 4s 4ms/step - loss: 8.9499 - accuracy: 0.7818\n"
          ],
          "name": "stdout"
        },
        {
          "output_type": "execute_result",
          "data": {
            "text/plain": [
              "<tensorflow.python.keras.callbacks.History at 0x7f9450760e10>"
            ]
          },
          "metadata": {
            "tags": []
          },
          "execution_count": 14
        }
      ]
    },
    {
      "cell_type": "code",
      "metadata": {
        "id": "criGGjOSbav6",
        "colab_type": "code",
        "colab": {}
      },
      "source": [
        "def get_cnn_v1(input_shape,num_classes):\n",
        "  return Sequential([\n",
        "  Conv2D(filters=64, kernel_size=(3,3), activation='relu', input_shape=input_shape),\n",
        "  Flatten(),\n",
        "  Dense(num_classes, activation='softmax'),\n",
        "])\n",
        "  \n",
        "def train_model(model,X_train,y_train,params_fit={}):\n",
        "  model.compile(loss='categorical_crossentropy',metrics=['accuracy'],optimizer='Adam')\n",
        "\n",
        "  logdir=os.path.join(\"logs\", datetime.datetime.now().strftime(\"%Y%m%d-%H%M%S\"))\n",
        "  tensorboard_callbacks = tf.keras.callbacks.TensorBoard(logdir,histogram_freq=1)\n",
        "  model.fit(\n",
        "      X_train\n",
        "      ,y_train\n",
        "      ,batch_size=params_fit.get('batch_size',128)\n",
        "      ,epochs = params_fit.get('epochs',5)\n",
        "      ,verbose = params_fit.get('verbose',1)\n",
        "      ,validation_data=params_fit.get('validation_data',(X_train,y_train))\n",
        "      ,callbacks = [tensorboard_callbacks]\n",
        "      )\n",
        "  return model"
      ],
      "execution_count": 0,
      "outputs": []
    },
    {
      "cell_type": "code",
      "metadata": {
        "id": "vAyaA6Zubxn5",
        "colab_type": "code",
        "outputId": "48dbef32-4894-4823-c1ce-cd8521049518",
        "colab": {
          "base_uri": "https://localhost:8080/",
          "height": 196
        }
      },
      "source": [
        ""
      ],
      "execution_count": 18,
      "outputs": [
        {
          "output_type": "stream",
          "text": [
            "Epoch 1/5\n",
            "272/272 [==============================] - 3s 12ms/step - loss: 20.8859 - accuracy: 0.7565 - val_loss: 0.1972 - val_accuracy: 0.9529\n",
            "Epoch 2/5\n",
            "272/272 [==============================] - 3s 11ms/step - loss: 0.2176 - accuracy: 0.9508 - val_loss: 0.1870 - val_accuracy: 0.9584\n",
            "Epoch 3/5\n",
            "272/272 [==============================] - 3s 10ms/step - loss: 0.1457 - accuracy: 0.9664 - val_loss: 0.1050 - val_accuracy: 0.9759\n",
            "Epoch 4/5\n",
            "272/272 [==============================] - 3s 10ms/step - loss: 0.0984 - accuracy: 0.9770 - val_loss: 0.0859 - val_accuracy: 0.9818\n",
            "Epoch 5/5\n",
            "272/272 [==============================] - 3s 10ms/step - loss: 0.1023 - accuracy: 0.9763 - val_loss: 0.0935 - val_accuracy: 0.9781\n"
          ],
          "name": "stdout"
        }
      ]
    },
    {
      "cell_type": "code",
      "metadata": {
        "id": "FmXzA6cprLt7",
        "colab_type": "code",
        "colab": {
          "base_uri": "https://localhost:8080/",
          "height": 283
        },
        "outputId": "24c0005f-59e4-4ed1-faf7-ac2c7f0df051"
      },
      "source": [
        "y_pred_probs[400]\n",
        "\n",
        "plt.bar(range(43),y_pred_probs[400])\n",
        "\n",
        "lables_dict[np.argmax(y_pred_probs[400])]"
      ],
      "execution_count": 42,
      "outputs": [
        {
          "output_type": "execute_result",
          "data": {
            "text/plain": [
              "'Speed limit (30km/h)'"
            ]
          },
          "metadata": {
            "tags": []
          },
          "execution_count": 42
        },
        {
          "output_type": "display_data",
          "data": {
            "image/png": "[encoded data removed]",
            "text/plain": [
              "<Figure size 432x288 with 1 Axes>"
            ]
          },
          "metadata": {
            "tags": [],
            "needs_background": "light"
          }
        }
      ]
    },
    {
      "cell_type": "code",
      "metadata": {
        "id": "49s9EcCuj8Sa",
        "colab_type": "code",
        "colab": {}
      },
      "source": [
        "def predict(model_trained, X_test, y_test, scoring=accuracy_score):\n",
        "  y_test_norm = np.argmax(y_test,axis=1)\n",
        "\n",
        "  y_pred_probs = model_trained.predict(X_test)\n",
        "  y_pred = np.argmax(y_pred_probs,axis=1)\n",
        "\n",
        "  return scoring(y_test_norm,y_pred)"
      ],
      "execution_count": 0,
      "outputs": []
    },
    {
      "cell_type": "code",
      "metadata": {
        "id": "cuZt6ECTrPOa",
        "colab_type": "code",
        "colab": {
          "base_uri": "https://localhost:8080/",
          "height": 34
        },
        "outputId": "c8237b60-d225-45e6-d41e-d87295dfb40c"
      },
      "source": [
        "predict(model_trained, X_test, y_test)"
      ],
      "execution_count": 46,
      "outputs": [
        {
          "output_type": "execute_result",
          "data": {
            "text/plain": [
              "0.8111111111111111"
            ]
          },
          "metadata": {
            "tags": []
          },
          "execution_count": 46
        }
      ]
    },
    {
      "cell_type": "code",
      "metadata": {
        "id": "gcbrRJTGrrm3",
        "colab_type": "code",
        "colab": {
          "base_uri": "https://localhost:8080/",
          "height": 214
        },
        "outputId": "3091e993-28d5-493c-ec36-023ac5d648eb"
      },
      "source": [
        "model = get_cnn_v1(input_shape,num_classes)\n",
        "model_trained = train_model(model, X_train,y_train)\n",
        "\n",
        "predict(model_trained, X_test, y_test)"
      ],
      "execution_count": 47,
      "outputs": [
        {
          "output_type": "stream",
          "text": [
            "Epoch 1/5\n",
            "272/272 [==============================] - 3s 11ms/step - loss: 34.4550 - accuracy: 0.7618 - val_loss: 0.2260 - val_accuracy: 0.9450\n",
            "Epoch 2/5\n",
            "272/272 [==============================] - 3s 11ms/step - loss: 0.2043 - accuracy: 0.9509 - val_loss: 0.1249 - val_accuracy: 0.9701\n",
            "Epoch 3/5\n",
            "272/272 [==============================] - 3s 11ms/step - loss: 0.1369 - accuracy: 0.9678 - val_loss: 0.1520 - val_accuracy: 0.9669\n",
            "Epoch 4/5\n",
            "272/272 [==============================] - 3s 11ms/step - loss: 0.1297 - accuracy: 0.9705 - val_loss: 0.0694 - val_accuracy: 0.9830\n",
            "Epoch 5/5\n",
            "272/272 [==============================] - 3s 11ms/step - loss: 0.0884 - accuracy: 0.9802 - val_loss: 0.0732 - val_accuracy: 0.9843\n"
          ],
          "name": "stdout"
        },
        {
          "output_type": "execute_result",
          "data": {
            "text/plain": [
              "0.8317460317460318"
            ]
          },
          "metadata": {
            "tags": []
          },
          "execution_count": 47
        }
      ]
    },
    {
      "cell_type": "code",
      "metadata": {
        "id": "RrVkwbT2elt9",
        "colab_type": "code",
        "outputId": "93c03094-116d-4c93-a00d-923b03853661",
        "colab": {
          "base_uri": "https://localhost:8080/",
          "height": 520
        }
      },
      "source": [
        "def get_cnn_v2(input_shape,num_classes):\n",
        "  return Sequential([\n",
        "  Conv2D(filters=32, kernel_size=(3,3), activation='relu', input_shape=input_shape),\n",
        "  MaxPool2D(),\n",
        "  Dropout(0.5),\n",
        "\n",
        "  Conv2D(filters=64, kernel_size=(3,3), activation='relu'),\n",
        "  MaxPool2D(),\n",
        "  Dropout(0.3),\n",
        "\n",
        "  Flatten(),\n",
        "\n",
        "  Dense(1024, activation='relu'),\n",
        "  Dropout(0.5),\n",
        "\n",
        "  Dense(num_classes, activation='softmax'),\n",
        "])\n",
        "  \n",
        "get_cnn_v2(input_shape,num_classes).summary()"
      ],
      "execution_count": 49,
      "outputs": [
        {
          "output_type": "stream",
          "text": [
            "Model: \"sequential_4\"\n",
            "_________________________________________________________________\n",
            "Layer (type)                 Output Shape              Param #   \n",
            "=================================================================\n",
            "conv2d_4 (Conv2D)            (None, 30, 30, 32)        896       \n",
            "_________________________________________________________________\n",
            "max_pooling2d (MaxPooling2D) (None, 15, 15, 32)        0         \n",
            "_________________________________________________________________\n",
            "dropout (Dropout)            (None, 15, 15, 32)        0         \n",
            "_________________________________________________________________\n",
            "conv2d_5 (Conv2D)            (None, 13, 13, 64)        18496     \n",
            "_________________________________________________________________\n",
            "max_pooling2d_1 (MaxPooling2 (None, 6, 6, 64)          0         \n",
            "_________________________________________________________________\n",
            "dropout_1 (Dropout)          (None, 6, 6, 64)          0         \n",
            "_________________________________________________________________\n",
            "flatten_4 (Flatten)          (None, 2304)              0         \n",
            "_________________________________________________________________\n",
            "dense_4 (Dense)              (None, 1024)              2360320   \n",
            "_________________________________________________________________\n",
            "dropout_2 (Dropout)          (None, 1024)              0         \n",
            "_________________________________________________________________\n",
            "dense_5 (Dense)              (None, 43)                44075     \n",
            "=================================================================\n",
            "Total params: 2,423,787\n",
            "Trainable params: 2,423,787\n",
            "Non-trainable params: 0\n",
            "_________________________________________________________________\n"
          ],
          "name": "stdout"
        }
      ]
    },
    {
      "cell_type": "code",
      "metadata": {
        "id": "JUjW5M02sBf3",
        "colab_type": "code",
        "colab": {
          "base_uri": "https://localhost:8080/",
          "height": 934
        },
        "outputId": "fd2d2cfe-2295-4303-d591-8ea57b47c0d0"
      },
      "source": [
        "model = get_cnn_v2(input_shape,num_classes)\n",
        "params_fit = {\n",
        "    'epochs':25\n",
        "}\n",
        "model_trained = train_model(model, X_train,y_train,params_fit)\n",
        "\n",
        "predict(model_trained, X_test, y_test)"
      ],
      "execution_count": 50,
      "outputs": [
        {
          "output_type": "stream",
          "text": [
            "Epoch 1/25\n",
            "272/272 [==============================] - 3s 12ms/step - loss: 8.5256 - accuracy: 0.0923 - val_loss: 3.2171 - val_accuracy: 0.1297\n",
            "Epoch 2/25\n",
            "272/272 [==============================] - 3s 11ms/step - loss: 3.1022 - accuracy: 0.1494 - val_loss: 2.9904 - val_accuracy: 0.1758\n",
            "Epoch 3/25\n",
            "272/272 [==============================] - 3s 11ms/step - loss: 2.9356 - accuracy: 0.1964 - val_loss: 2.7058 - val_accuracy: 0.2722\n",
            "Epoch 4/25\n",
            "272/272 [==============================] - 3s 11ms/step - loss: 2.3477 - accuracy: 0.3401 - val_loss: 1.6105 - val_accuracy: 0.5549\n",
            "Epoch 5/25\n",
            "272/272 [==============================] - 3s 11ms/step - loss: 1.5558 - accuracy: 0.5276 - val_loss: 0.8308 - val_accuracy: 0.7875\n",
            "Epoch 6/25\n",
            "272/272 [==============================] - 3s 11ms/step - loss: 1.0639 - accuracy: 0.6692 - val_loss: 0.5411 - val_accuracy: 0.8693\n",
            "Epoch 7/25\n",
            "272/272 [==============================] - 3s 11ms/step - loss: 0.7436 - accuracy: 0.7658 - val_loss: 0.2927 - val_accuracy: 0.9309\n",
            "Epoch 8/25\n",
            "272/272 [==============================] - 3s 11ms/step - loss: 0.5884 - accuracy: 0.8173 - val_loss: 0.1645 - val_accuracy: 0.9638\n",
            "Epoch 9/25\n",
            "272/272 [==============================] - 3s 11ms/step - loss: 0.4719 - accuracy: 0.8513 - val_loss: 0.1687 - val_accuracy: 0.9632\n",
            "Epoch 10/25\n",
            "272/272 [==============================] - 3s 11ms/step - loss: 0.4012 - accuracy: 0.8746 - val_loss: 0.0901 - val_accuracy: 0.9776\n",
            "Epoch 11/25\n",
            "272/272 [==============================] - 3s 11ms/step - loss: 0.3526 - accuracy: 0.8901 - val_loss: 0.0869 - val_accuracy: 0.9805\n",
            "Epoch 12/25\n",
            "272/272 [==============================] - 3s 11ms/step - loss: 0.3140 - accuracy: 0.9027 - val_loss: 0.0657 - val_accuracy: 0.9827\n",
            "Epoch 13/25\n",
            "272/272 [==============================] - 3s 11ms/step - loss: 0.3023 - accuracy: 0.9091 - val_loss: 0.0495 - val_accuracy: 0.9881\n",
            "Epoch 14/25\n",
            "272/272 [==============================] - 3s 11ms/step - loss: 0.2674 - accuracy: 0.9179 - val_loss: 0.0504 - val_accuracy: 0.9889\n",
            "Epoch 15/25\n",
            "272/272 [==============================] - 3s 11ms/step - loss: 0.2686 - accuracy: 0.9204 - val_loss: 0.0410 - val_accuracy: 0.9905\n",
            "Epoch 16/25\n",
            "272/272 [==============================] - 3s 11ms/step - loss: 0.2597 - accuracy: 0.9230 - val_loss: 0.0414 - val_accuracy: 0.9890\n",
            "Epoch 17/25\n",
            "272/272 [==============================] - 3s 11ms/step - loss: 0.2408 - accuracy: 0.9288 - val_loss: 0.0343 - val_accuracy: 0.9936\n",
            "Epoch 18/25\n",
            "272/272 [==============================] - 3s 12ms/step - loss: 0.2330 - accuracy: 0.9307 - val_loss: 0.0286 - val_accuracy: 0.9930\n",
            "Epoch 19/25\n",
            "272/272 [==============================] - 3s 11ms/step - loss: 0.2277 - accuracy: 0.9336 - val_loss: 0.0302 - val_accuracy: 0.9930\n",
            "Epoch 20/25\n",
            "272/272 [==============================] - 3s 11ms/step - loss: 0.2351 - accuracy: 0.9326 - val_loss: 0.0406 - val_accuracy: 0.9889\n",
            "Epoch 21/25\n",
            "272/272 [==============================] - 3s 11ms/step - loss: 0.2209 - accuracy: 0.9384 - val_loss: 0.0259 - val_accuracy: 0.9930\n",
            "Epoch 22/25\n",
            "272/272 [==============================] - 3s 11ms/step - loss: 0.2471 - accuracy: 0.9324 - val_loss: 0.0240 - val_accuracy: 0.9947\n",
            "Epoch 23/25\n",
            "272/272 [==============================] - 3s 11ms/step - loss: 0.2267 - accuracy: 0.9357 - val_loss: 0.0261 - val_accuracy: 0.9933\n",
            "Epoch 24/25\n",
            "272/272 [==============================] - 3s 11ms/step - loss: 0.2378 - accuracy: 0.9361 - val_loss: 0.0400 - val_accuracy: 0.9906\n",
            "Epoch 25/25\n",
            "272/272 [==============================] - 3s 11ms/step - loss: 0.2118 - accuracy: 0.9405 - val_loss: 0.0243 - val_accuracy: 0.9938\n"
          ],
          "name": "stdout"
        },
        {
          "output_type": "execute_result",
          "data": {
            "text/plain": [
              "0.9444444444444444"
            ]
          },
          "metadata": {
            "tags": []
          },
          "execution_count": 50
        }
      ]
    },
    {
      "cell_type": "code",
      "metadata": {
        "id": "8IqNAPTAsRnY",
        "colab_type": "code",
        "colab": {
          "base_uri": "https://localhost:8080/",
          "height": 934
        },
        "outputId": "73f910dc-1b38-423c-d14a-bceb6cce3ec8"
      },
      "source": [
        "def train_and_predict(model):\n",
        "  model_trained = train_model(model, X_train,y_train,params_fit)\n",
        "  return predict(model_trained, X_test, y_test)  "
      ],
      "execution_count": 51,
      "outputs": [
        {
          "output_type": "stream",
          "text": [
            "Epoch 1/25\n",
            "272/272 [==============================] - 3s 12ms/step - loss: 37.2182 - accuracy: 0.7127 - val_loss: 0.2865 - val_accuracy: 0.9323\n",
            "Epoch 2/25\n",
            "272/272 [==============================] - 3s 11ms/step - loss: 0.2628 - accuracy: 0.9397 - val_loss: 0.1498 - val_accuracy: 0.9610\n",
            "Epoch 3/25\n",
            "272/272 [==============================] - 3s 11ms/step - loss: 0.1640 - accuracy: 0.9616 - val_loss: 0.1917 - val_accuracy: 0.9505\n",
            "Epoch 4/25\n",
            "272/272 [==============================] - 3s 11ms/step - loss: 0.1155 - accuracy: 0.9710 - val_loss: 0.0759 - val_accuracy: 0.9831\n",
            "Epoch 5/25\n",
            "272/272 [==============================] - 3s 11ms/step - loss: 0.1154 - accuracy: 0.9733 - val_loss: 0.1561 - val_accuracy: 0.9677\n",
            "Epoch 6/25\n",
            "272/272 [==============================] - 3s 11ms/step - loss: 0.0994 - accuracy: 0.9764 - val_loss: 0.0996 - val_accuracy: 0.9765\n",
            "Epoch 7/25\n",
            "272/272 [==============================] - 3s 11ms/step - loss: 0.0951 - accuracy: 0.9784 - val_loss: 0.0503 - val_accuracy: 0.9879\n",
            "Epoch 8/25\n",
            "272/272 [==============================] - 3s 11ms/step - loss: 0.0879 - accuracy: 0.9807 - val_loss: 0.0722 - val_accuracy: 0.9822\n",
            "Epoch 9/25\n",
            "272/272 [==============================] - 3s 11ms/step - loss: 0.0902 - accuracy: 0.9805 - val_loss: 0.0525 - val_accuracy: 0.9890\n",
            "Epoch 10/25\n",
            "272/272 [==============================] - 3s 11ms/step - loss: 0.0963 - accuracy: 0.9809 - val_loss: 0.0877 - val_accuracy: 0.9814\n",
            "Epoch 11/25\n",
            "272/272 [==============================] - 3s 11ms/step - loss: 0.0830 - accuracy: 0.9816 - val_loss: 0.0979 - val_accuracy: 0.9800\n",
            "Epoch 12/25\n",
            "272/272 [==============================] - 3s 11ms/step - loss: 0.0627 - accuracy: 0.9857 - val_loss: 0.0533 - val_accuracy: 0.9880\n",
            "Epoch 13/25\n",
            "272/272 [==============================] - 3s 11ms/step - loss: 0.0452 - accuracy: 0.9905 - val_loss: 0.0279 - val_accuracy: 0.9926\n",
            "Epoch 14/25\n",
            "272/272 [==============================] - 3s 10ms/step - loss: 0.0847 - accuracy: 0.9830 - val_loss: 0.0770 - val_accuracy: 0.9839\n",
            "Epoch 15/25\n",
            "272/272 [==============================] - 3s 10ms/step - loss: 0.0659 - accuracy: 0.9868 - val_loss: 0.0458 - val_accuracy: 0.9912\n",
            "Epoch 16/25\n",
            "272/272 [==============================] - 3s 11ms/step - loss: 0.0565 - accuracy: 0.9895 - val_loss: 0.1197 - val_accuracy: 0.9793\n",
            "Epoch 17/25\n",
            "272/272 [==============================] - 3s 11ms/step - loss: 0.0460 - accuracy: 0.9907 - val_loss: 0.0198 - val_accuracy: 0.9956\n",
            "Epoch 18/25\n",
            "272/272 [==============================] - 3s 11ms/step - loss: 0.0671 - accuracy: 0.9868 - val_loss: 0.0323 - val_accuracy: 0.9943\n",
            "Epoch 19/25\n",
            "272/272 [==============================] - 3s 11ms/step - loss: 0.0741 - accuracy: 0.9871 - val_loss: 0.0342 - val_accuracy: 0.9941\n",
            "Epoch 20/25\n",
            "272/272 [==============================] - 3s 11ms/step - loss: 0.0514 - accuracy: 0.9905 - val_loss: 0.0376 - val_accuracy: 0.9936\n",
            "Epoch 21/25\n",
            "272/272 [==============================] - 3s 11ms/step - loss: 0.0547 - accuracy: 0.9902 - val_loss: 0.0406 - val_accuracy: 0.9920\n",
            "Epoch 22/25\n",
            "272/272 [==============================] - 3s 11ms/step - loss: 0.0514 - accuracy: 0.9901 - val_loss: 0.0360 - val_accuracy: 0.9923\n",
            "Epoch 23/25\n",
            "272/272 [==============================] - 3s 11ms/step - loss: 0.0333 - accuracy: 0.9939 - val_loss: 0.0182 - val_accuracy: 0.9960\n",
            "Epoch 24/25\n",
            "272/272 [==============================] - 3s 11ms/step - loss: 0.0392 - accuracy: 0.9926 - val_loss: 0.0290 - val_accuracy: 0.9936\n",
            "Epoch 25/25\n",
            "272/272 [==============================] - 3s 11ms/step - loss: 0.0388 - accuracy: 0.9930 - val_loss: 0.0366 - val_accuracy: 0.9931\n"
          ],
          "name": "stdout"
        },
        {
          "output_type": "execute_result",
          "data": {
            "text/plain": [
              "0.864172335600907"
            ]
          },
          "metadata": {
            "tags": []
          },
          "execution_count": 51
        }
      ]
    },
    {
      "cell_type": "code",
      "metadata": {
        "id": "hJ6zBoB8sp5R",
        "colab_type": "code",
        "colab": {}
      },
      "source": [
        "def get_cnn_v3(input_shape,num_classes):\n",
        "  return Sequential([\n",
        "  Conv2D(filters=32, kernel_size=(3,3), activation='relu', input_shape=input_shape),\n",
        "  MaxPool2D(),\n",
        "\n",
        "  Conv2D(filters=64, kernel_size=(3,3), activation='relu'),\n",
        "  MaxPool2D(),\n",
        "\n",
        "\n",
        "  Flatten(),\n",
        "\n",
        "  Dense(1024,activation='relu'),\n",
        "  Dropout(0.3),\n",
        "  Dense(num_classes, activation='softmax'),\n",
        "])\n",
        "  \n",
        "def train_model(model,X_train,y_train,params_fit={}):\n",
        "  model.compile(loss='categorical_crossentropy',metrics=['accuracy'],optimizer='Adam')\n",
        "\n",
        "  logdir=os.path.join(\"logs\", datetime.datetime.now().strftime(\"%Y%m%d-%H%M%S\"))\n",
        "  tensorboard_callbacks = tf.keras.callbacks.TensorBoard(logdir,histogram_freq=1)\n",
        "  model.fit(\n",
        "      X_train\n",
        "      ,y_train\n",
        "      ,batch_size=params_fit.get('batch_size',128)\n",
        "      ,epochs = params_fit.get('epochs',5)\n",
        "      ,verbose = params_fit.get('verbose',1)\n",
        "      ,validation_data=params_fit.get('validation_data',(X_train,y_train))\n",
        "      ,callbacks = [tensorboard_callbacks]\n",
        "      )\n",
        "  return model"
      ],
      "execution_count": 0,
      "outputs": []
    },
    {
      "cell_type": "code",
      "metadata": {
        "id": "JnPgP1hctL5t",
        "colab_type": "code",
        "colab": {
          "base_uri": "https://localhost:8080/",
          "height": 214
        },
        "outputId": "eb24e414-5a1a-4137-de5e-8d16adcaf8a7"
      },
      "source": [
        "params_fit = {\n",
        "    'epochs':5\n",
        "}\n",
        "train_and_predict(get_cnn_v3(input_shape,num_classes))"
      ],
      "execution_count": 56,
      "outputs": [
        {
          "output_type": "stream",
          "text": [
            "Epoch 1/5\n",
            "272/272 [==============================] - 3s 11ms/step - loss: 2.0812 - accuracy: 0.7761 - val_loss: 0.1310 - val_accuracy: 0.9683\n",
            "Epoch 2/5\n",
            "272/272 [==============================] - 3s 11ms/step - loss: 0.1433 - accuracy: 0.9608 - val_loss: 0.0602 - val_accuracy: 0.9839\n",
            "Epoch 3/5\n",
            "272/272 [==============================] - 3s 10ms/step - loss: 0.0844 - accuracy: 0.9772 - val_loss: 0.0493 - val_accuracy: 0.9872\n",
            "Epoch 4/5\n",
            "272/272 [==============================] - 3s 11ms/step - loss: 0.0558 - accuracy: 0.9843 - val_loss: 0.0215 - val_accuracy: 0.9956\n",
            "Epoch 5/5\n",
            "272/272 [==============================] - 3s 11ms/step - loss: 0.0522 - accuracy: 0.9866 - val_loss: 0.0337 - val_accuracy: 0.9921\n"
          ],
          "name": "stdout"
        },
        {
          "output_type": "execute_result",
          "data": {
            "text/plain": [
              "0.926984126984127"
            ]
          },
          "metadata": {
            "tags": []
          },
          "execution_count": 56
        }
      ]
    },
    {
      "cell_type": "code",
      "metadata": {
        "id": "nmyEDUrQtsHE",
        "colab_type": "code",
        "colab": {}
      },
      "source": [
        "def get_cnn_v4(input_shape,num_classes):\n",
        "  return Sequential([\n",
        "  Conv2D(filters=32, kernel_size=(3,3), activation='relu', input_shape=input_shape),\n",
        "  Conv2D(filters=32, kernel_size=(3,3), activation='relu'),\n",
        "  MaxPool2D(),\n",
        "\n",
        "  Conv2D(filters=64, kernel_size=(3,3), activation='relu'),\n",
        "  Conv2D(filters=64, kernel_size=(3,3), activation='relu'),\n",
        "  MaxPool2D(),\n",
        "\n",
        "\n",
        "  Flatten(),\n",
        "\n",
        "  Dense(1024,activation='relu'),\n",
        "  Dropout(0.3),\n",
        "  Dense(num_classes, activation='softmax'),\n",
        "])\n",
        "  \n",
        "def train_model(model,X_train,y_train,params_fit={}):\n",
        "  model.compile(loss='categorical_crossentropy',metrics=['accuracy'],optimizer='Adam')\n",
        "\n",
        "  logdir=os.path.join(\"logs\", datetime.datetime.now().strftime(\"%Y%m%d-%H%M%S\"))\n",
        "  tensorboard_callbacks = tf.keras.callbacks.TensorBoard(logdir,histogram_freq=1)\n",
        "  model.fit(\n",
        "      X_train\n",
        "      ,y_train\n",
        "      ,batch_size=params_fit.get('batch_size',128)\n",
        "      ,epochs = params_fit.get('epochs',5)\n",
        "      ,verbose = params_fit.get('verbose',1)\n",
        "      ,validation_data=params_fit.get('validation_data',(X_train,y_train))\n",
        "      ,callbacks = [tensorboard_callbacks]\n",
        "      )\n",
        "  return model"
      ],
      "execution_count": 0,
      "outputs": []
    },
    {
      "cell_type": "code",
      "metadata": {
        "id": "mU3LSz1jt2iT",
        "colab_type": "code",
        "colab": {
          "base_uri": "https://localhost:8080/",
          "height": 214
        },
        "outputId": "11abe95b-5f4e-4ebb-da5a-583fcea3e921"
      },
      "source": [
        "params_fit = {\n",
        "    'epochs':5\n",
        "}\n",
        "train_and_predict(get_cnn_v4(input_shape,num_classes))"
      ],
      "execution_count": 58,
      "outputs": [
        {
          "output_type": "stream",
          "text": [
            "Epoch 1/5\n",
            "272/272 [==============================] - 4s 14ms/step - loss: 1.1762 - accuracy: 0.7703 - val_loss: 0.1195 - val_accuracy: 0.9742\n",
            "Epoch 2/5\n",
            "272/272 [==============================] - 4s 13ms/step - loss: 0.1300 - accuracy: 0.9689 - val_loss: 0.0709 - val_accuracy: 0.9838\n",
            "Epoch 3/5\n",
            "272/272 [==============================] - 4s 13ms/step - loss: 0.0680 - accuracy: 0.9835 - val_loss: 0.0462 - val_accuracy: 0.9884\n",
            "Epoch 4/5\n",
            "272/272 [==============================] - 4s 13ms/step - loss: 0.0541 - accuracy: 0.9864 - val_loss: 0.0456 - val_accuracy: 0.9886\n",
            "Epoch 5/5\n",
            "272/272 [==============================] - 4s 13ms/step - loss: 0.0495 - accuracy: 0.9865 - val_loss: 0.0253 - val_accuracy: 0.9937\n"
          ],
          "name": "stdout"
        },
        {
          "output_type": "execute_result",
          "data": {
            "text/plain": [
              "0.9510204081632653"
            ]
          },
          "metadata": {
            "tags": []
          },
          "execution_count": 58
        }
      ]
    },
    {
      "cell_type": "code",
      "metadata": {
        "id": "nFhXxq3iuBbR",
        "colab_type": "code",
        "colab": {}
      },
      "source": [
        "def get_cnn_v5(input_shape,num_classes):\n",
        "  return Sequential([\n",
        "  Conv2D(filters=32, kernel_size=(3,3), activation='relu', input_shape=input_shape),\n",
        "  Conv2D(filters=32, kernel_size=(3,3), activation='relu',padding='same'),\n",
        "  MaxPool2D(),\n",
        "  Dropout(0.3),\n",
        "\n",
        "  Conv2D(filters=64, kernel_size=(3,3), activation='relu',padding='same'),\n",
        "  Conv2D(filters=64, kernel_size=(3,3), activation='relu'),\n",
        "  MaxPool2D(),\n",
        "  Dropout(0.3),\n",
        "\n",
        "  Conv2D(filters=64, kernel_size=(3,3), activation='relu',padding='same'),\n",
        "  Conv2D(filters=64, kernel_size=(3,3), activation='relu'),\n",
        "  MaxPool2D(),\n",
        "  Dropout(0.3),\n",
        "\n",
        "\n",
        "  Flatten(),\n",
        "\n",
        "  Dense(1024,activation='relu'),\n",
        "  Dropout(0.3),\n",
        "  Dense(num_classes, activation='softmax'),\n",
        "])\n",
        "  \n",
        "def train_model(model,X_train,y_train,params_fit={}):\n",
        "  model.compile(loss='categorical_crossentropy',metrics=['accuracy'],optimizer='Adam')\n",
        "\n",
        "  logdir=os.path.join(\"logs\", datetime.datetime.now().strftime(\"%Y%m%d-%H%M%S\"))\n",
        "  tensorboard_callbacks = tf.keras.callbacks.TensorBoard(logdir,histogram_freq=1)\n",
        "  model.fit(\n",
        "      X_train\n",
        "      ,y_train\n",
        "      ,batch_size=params_fit.get('batch_size',128)\n",
        "      ,epochs = params_fit.get('epochs',5)\n",
        "      ,verbose = params_fit.get('verbose',1)\n",
        "      ,validation_data=params_fit.get('validation_data',(X_train,y_train))\n",
        "      ,callbacks = [tensorboard_callbacks]\n",
        "      )\n",
        "  return model"
      ],
      "execution_count": 0,
      "outputs": []
    },
    {
      "cell_type": "code",
      "metadata": {
        "id": "8qw8hLoTuG9Q",
        "colab_type": "code",
        "colab": {
          "base_uri": "https://localhost:8080/",
          "height": 736
        },
        "outputId": "2b1d05cc-51b2-4aa0-b4a2-14aa893b79b5"
      },
      "source": [
        "get_cnn_v5(input_shape,num_classes).summary()"
      ],
      "execution_count": 72,
      "outputs": [
        {
          "output_type": "stream",
          "text": [
            "Model: \"sequential_15\"\n",
            "_________________________________________________________________\n",
            "Layer (type)                 Output Shape              Param #   \n",
            "=================================================================\n",
            "conv2d_44 (Conv2D)           (None, 30, 30, 32)        896       \n",
            "_________________________________________________________________\n",
            "conv2d_45 (Conv2D)           (None, 30, 30, 32)        9248      \n",
            "_________________________________________________________________\n",
            "max_pooling2d_22 (MaxPooling (None, 15, 15, 32)        0         \n",
            "_________________________________________________________________\n",
            "dropout_26 (Dropout)         (None, 15, 15, 32)        0         \n",
            "_________________________________________________________________\n",
            "conv2d_46 (Conv2D)           (None, 15, 15, 64)        18496     \n",
            "_________________________________________________________________\n",
            "conv2d_47 (Conv2D)           (None, 13, 13, 64)        36928     \n",
            "_________________________________________________________________\n",
            "max_pooling2d_23 (MaxPooling (None, 6, 6, 64)          0         \n",
            "_________________________________________________________________\n",
            "dropout_27 (Dropout)         (None, 6, 6, 64)          0         \n",
            "_________________________________________________________________\n",
            "conv2d_48 (Conv2D)           (None, 6, 6, 64)          36928     \n",
            "_________________________________________________________________\n",
            "conv2d_49 (Conv2D)           (None, 4, 4, 64)          36928     \n",
            "_________________________________________________________________\n",
            "max_pooling2d_24 (MaxPooling (None, 2, 2, 64)          0         \n",
            "_________________________________________________________________\n",
            "dropout_28 (Dropout)         (None, 2, 2, 64)          0         \n",
            "_________________________________________________________________\n",
            "flatten_15 (Flatten)         (None, 256)               0         \n",
            "_________________________________________________________________\n",
            "dense_25 (Dense)             (None, 1024)              263168    \n",
            "_________________________________________________________________\n",
            "dropout_29 (Dropout)         (None, 1024)              0         \n",
            "_________________________________________________________________\n",
            "dense_26 (Dense)             (None, 43)                44075     \n",
            "=================================================================\n",
            "Total params: 446,667\n",
            "Trainable params: 446,667\n",
            "Non-trainable params: 0\n",
            "_________________________________________________________________\n"
          ],
          "name": "stdout"
        }
      ]
    },
    {
      "cell_type": "code",
      "metadata": {
        "id": "n52-RV4zuDTC",
        "colab_type": "code",
        "colab": {
          "base_uri": "https://localhost:8080/",
          "height": 214
        },
        "outputId": "bca395fd-a39b-4630-e277-82c9e1792ee9"
      },
      "source": [
        "params_fit = {\n",
        "    'epochs':5\n",
        "}\n",
        "train_and_predict(get_cnn_v5(input_shape,num_classes))"
      ],
      "execution_count": 73,
      "outputs": [
        {
          "output_type": "stream",
          "text": [
            "Epoch 1/5\n",
            "272/272 [==============================] - 5s 17ms/step - loss: 2.4853 - accuracy: 0.3373 - val_loss: 0.7764 - val_accuracy: 0.7868\n",
            "Epoch 2/5\n",
            "272/272 [==============================] - 4s 15ms/step - loss: 0.7246 - accuracy: 0.7820 - val_loss: 0.1564 - val_accuracy: 0.9574\n",
            "Epoch 3/5\n",
            "272/272 [==============================] - 4s 15ms/step - loss: 0.3571 - accuracy: 0.8895 - val_loss: 0.0716 - val_accuracy: 0.9811\n",
            "Epoch 4/5\n",
            "272/272 [==============================] - 4s 15ms/step - loss: 0.2440 - accuracy: 0.9281 - val_loss: 0.0574 - val_accuracy: 0.9847\n",
            "Epoch 5/5\n",
            "272/272 [==============================] - 4s 15ms/step - loss: 0.1812 - accuracy: 0.9457 - val_loss: 0.0390 - val_accuracy: 0.9891\n"
          ],
          "name": "stdout"
        },
        {
          "output_type": "execute_result",
          "data": {
            "text/plain": [
              "0.9682539682539683"
            ]
          },
          "metadata": {
            "tags": []
          },
          "execution_count": 73
        }
      ]
    },
    {
      "cell_type": "code",
      "metadata": {
        "id": "JQKFywSTu4QL",
        "colab_type": "code",
        "colab": {}
      },
      "source": [
        "def get_cnn_v6(input_shape,num_classes):\n",
        "  return Sequential([\n",
        "  Conv2D(filters=32, kernel_size=(3,3), activation='relu', input_shape=input_shape),\n",
        "  Conv2D(filters=32, kernel_size=(3,3), activation='relu',padding='same'),\n",
        "  MaxPool2D(),\n",
        "  Dropout(0.3),\n",
        "\n",
        "  Conv2D(filters=64, kernel_size=(3,3), activation='relu',padding='same'),\n",
        "  Conv2D(filters=64, kernel_size=(3,3), activation='relu'),\n",
        "  MaxPool2D(),\n",
        "  Dropout(0.3),\n",
        "\n",
        "  Conv2D(filters=64, kernel_size=(3,3), activation='relu',padding='same'),\n",
        "  Conv2D(filters=64, kernel_size=(3,3), activation='relu'),\n",
        "  MaxPool2D(),\n",
        "  Dropout(0.3),\n",
        "\n",
        "\n",
        "  Flatten(),\n",
        "\n",
        "  Dense(1024,activation='relu'),\n",
        "  Dropout(0.3),\n",
        "\n",
        "  Dense(1024,activation='relu'),\n",
        "  Dropout(0.3),\n",
        "\n",
        "  \n",
        "  Dense(num_classes, activation='softmax'),\n",
        "])\n",
        "  \n",
        "def train_model(model,X_train,y_train,params_fit={}):\n",
        "  model.compile(loss='categorical_crossentropy',metrics=['accuracy'],optimizer='Adam')\n",
        "\n",
        "  logdir=os.path.join(\"logs\", datetime.datetime.now().strftime(\"%Y%m%d-%H%M%S\"))\n",
        "  tensorboard_callbacks = tf.keras.callbacks.TensorBoard(logdir,histogram_freq=1)\n",
        "  model.fit(\n",
        "      X_train\n",
        "      ,y_train\n",
        "      ,batch_size=params_fit.get('batch_size',128)\n",
        "      ,epochs = params_fit.get('epochs',5)\n",
        "      ,verbose = params_fit.get('verbose',1)\n",
        "      ,validation_data=params_fit.get('validation_data',(X_train,y_train))\n",
        "      ,callbacks = [tensorboard_callbacks]\n",
        "      )\n",
        "  return model"
      ],
      "execution_count": 0,
      "outputs": []
    },
    {
      "cell_type": "code",
      "metadata": {
        "id": "-u8S5fWCu6qv",
        "colab_type": "code",
        "colab": {
          "base_uri": "https://localhost:8080/",
          "height": 214
        },
        "outputId": "0f73ae31-0e4b-4a18-f1fb-5eee2f6377f6"
      },
      "source": [
        "params_fit = {\n",
        "    'epochs':5\n",
        "}\n",
        "train_and_predict(get_cnn_v6(input_shape,num_classes))"
      ],
      "execution_count": 75,
      "outputs": [
        {
          "output_type": "stream",
          "text": [
            "Epoch 1/5\n",
            "272/272 [==============================] - 5s 17ms/step - loss: 3.0478 - accuracy: 0.2125 - val_loss: 1.4802 - val_accuracy: 0.5177\n",
            "Epoch 2/5\n",
            "272/272 [==============================] - 4s 16ms/step - loss: 1.2861 - accuracy: 0.5824 - val_loss: 0.5343 - val_accuracy: 0.8282\n",
            "Epoch 3/5\n",
            "272/272 [==============================] - 4s 15ms/step - loss: 0.6156 - accuracy: 0.8000 - val_loss: 0.1644 - val_accuracy: 0.9509\n",
            "Epoch 4/5\n",
            "272/272 [==============================] - 4s 16ms/step - loss: 0.3696 - accuracy: 0.8846 - val_loss: 0.0816 - val_accuracy: 0.9764\n",
            "Epoch 5/5\n",
            "272/272 [==============================] - 4s 15ms/step - loss: 0.2473 - accuracy: 0.9249 - val_loss: 0.0472 - val_accuracy: 0.9850\n"
          ],
          "name": "stdout"
        },
        {
          "output_type": "execute_result",
          "data": {
            "text/plain": [
              "0.9657596371882086"
            ]
          },
          "metadata": {
            "tags": []
          },
          "execution_count": 75
        }
      ]
    },
    {
      "cell_type": "code",
      "metadata": {
        "id": "XUfjc9lOvt1U",
        "colab_type": "code",
        "colab": {
          "base_uri": "https://localhost:8080/",
          "height": 34
        },
        "outputId": "fabab045-de6d-4df8-86e6-4d366d53c8ea"
      },
      "source": [
        "X_train[0].shape"
      ],
      "execution_count": 98,
      "outputs": [
        {
          "output_type": "execute_result",
          "data": {
            "text/plain": [
              "(32, 32, 3)"
            ]
          },
          "metadata": {
            "tags": []
          },
          "execution_count": 98
        }
      ]
    },
    {
      "cell_type": "code",
      "metadata": {
        "id": "NM-tHZZtwBTC",
        "colab_type": "code",
        "colab": {}
      },
      "source": [
        "color.rgb2gray(X_train[0]).shape"
      ],
      "execution_count": 0,
      "outputs": []
    },
    {
      "cell_type": "code",
      "metadata": {
        "id": "MIdrGBgsvx3_",
        "colab_type": "code",
        "colab": {
          "base_uri": "https://localhost:8080/",
          "height": 283
        },
        "outputId": "43d77ee6-8980-45ed-8e2f-baf6943ae018"
      },
      "source": [
        "plt.imshow(color.rgb2gray(X_train[0]),cmap=plt.get_cmap('gray'))"
      ],
      "execution_count": 80,
      "outputs": [
        {
          "output_type": "execute_result",
          "data": {
            "text/plain": [
              "<matplotlib.image.AxesImage at 0x7f941eb1fb70>"
            ]
          },
          "metadata": {
            "tags": []
          },
          "execution_count": 80
        },
        {
          "output_type": "display_data",
          "data": {
            "image/png": "[encoded data removed]",
            "text/plain": [
              "<Figure size 432x288 with 1 Axes>"
            ]
          },
          "metadata": {
            "tags": [],
            "needs_background": "light"
          }
        }
      ]
    },
    {
      "cell_type": "code",
      "metadata": {
        "id": "xzqlvQn4v7yJ",
        "colab_type": "code",
        "colab": {}
      },
      "source": [
        "X_train_gray = color.rgb2gray(X_train).reshape(-1,32,32,1)\n",
        "X_test_gray = color.rgb2gray(X_test).reshape(-1,32,32,1)"
      ],
      "execution_count": 0,
      "outputs": []
    },
    {
      "cell_type": "code",
      "metadata": {
        "id": "ZzXR-4f9wYuH",
        "colab_type": "code",
        "colab": {
          "base_uri": "https://localhost:8080/",
          "height": 214
        },
        "outputId": "311d2420-27bd-48c3-cfea-d4cd9e43fdeb"
      },
      "source": [
        "model = get_cnn_v6((32,32,1),num_classes)\n",
        "model_trained = train_model(model, X_train_gray,y_train,params_fit={})\n",
        "predict(model_trained,X_test_gray,y_test)"
      ],
      "execution_count": 86,
      "outputs": [
        {
          "output_type": "stream",
          "text": [
            "Epoch 1/5\n",
            "272/272 [==============================] - 5s 17ms/step - loss: 2.4910 - accuracy: 0.2961 - val_loss: 0.6234 - val_accuracy: 0.7917\n",
            "Epoch 2/5\n",
            "272/272 [==============================] - 4s 16ms/step - loss: 0.5187 - accuracy: 0.8318 - val_loss: 0.1233 - val_accuracy: 0.9615\n",
            "Epoch 3/5\n",
            "272/272 [==============================] - 4s 16ms/step - loss: 0.2361 - accuracy: 0.9256 - val_loss: 0.0581 - val_accuracy: 0.9832\n",
            "Epoch 4/5\n",
            "272/272 [==============================] - 4s 16ms/step - loss: 0.1636 - accuracy: 0.9486 - val_loss: 0.0351 - val_accuracy: 0.9894\n",
            "Epoch 5/5\n",
            "272/272 [==============================] - 4s 16ms/step - loss: 0.1268 - accuracy: 0.9597 - val_loss: 0.0274 - val_accuracy: 0.9919\n"
          ],
          "name": "stdout"
        },
        {
          "output_type": "execute_result",
          "data": {
            "text/plain": [
              "0.9678004535147392"
            ]
          },
          "metadata": {
            "tags": []
          },
          "execution_count": 86
        }
      ]
    },
    {
      "cell_type": "code",
      "metadata": {
        "id": "D7_YRJGSxwFh",
        "colab_type": "code",
        "colab": {}
      },
      "source": [
        "def preproc_img(img):\n",
        "  hsv = color.rgb2hsv(img)\n",
        "  hsv[:,:,2] = exposure.equalize_adapthist(hsv[:,:,2])\n",
        "  img = color.hsv2rgb(hsv)\n",
        "\n",
        "  return img"
      ],
      "execution_count": 0,
      "outputs": []
    },
    {
      "cell_type": "code",
      "metadata": {
        "id": "cn9Nd_YGKl8U",
        "colab_type": "code",
        "colab": {
          "base_uri": "https://localhost:8080/",
          "height": 283
        },
        "outputId": "49002b7f-529f-4725-93af-1014e535048e"
      },
      "source": [
        "plt.imshow(X_train[400])"
      ],
      "execution_count": 100,
      "outputs": [
        {
          "output_type": "execute_result",
          "data": {
            "text/plain": [
              "<matplotlib.image.AxesImage at 0x7f941ed01978>"
            ]
          },
          "metadata": {
            "tags": []
          },
          "execution_count": 100
        },
        {
          "output_type": "display_data",
          "data": {
            "image/png": "[encoded data removed]",
            "text/plain": [
              "<Figure size 432x288 with 1 Axes>"
            ]
          },
          "metadata": {
            "tags": [],
            "needs_background": "light"
          }
        }
      ]
    },
    {
      "cell_type": "code",
      "metadata": {
        "id": "VfmxcF4j4uBR",
        "colab_type": "code",
        "colab": {
          "base_uri": "https://localhost:8080/",
          "height": 283
        },
        "outputId": "5ec800b3-08a3-4141-cbc3-86e5784b19e3"
      },
      "source": [
        "plt.imshow(preproc_img(X_train[400]))"
      ],
      "execution_count": 99,
      "outputs": [
        {
          "output_type": "execute_result",
          "data": {
            "text/plain": [
              "<matplotlib.image.AxesImage at 0x7f941efb5048>"
            ]
          },
          "metadata": {
            "tags": []
          },
          "execution_count": 99
        },
        {
          "output_type": "display_data",
          "data": {
            "image/png": "[encoded data removed]",
            "text/plain": [
              "<Figure size 432x288 with 1 Axes>"
            ]
          },
          "metadata": {
            "tags": [],
            "needs_background": "light"
          }
        }
      ]
    },
    {
      "cell_type": "code",
      "metadata": {
        "id": "Nz2BVAZWKwWE",
        "colab_type": "code",
        "colab": {}
      },
      "source": [
        "X_train_prp = X_train.copy().astype(np.float32)\n",
        "X_test_prp = X_test.copy().astype(np.float32)\n",
        "\n",
        "for i in tqdm(range(X_train.shape[0])):\n",
        "  X_train_prp[i] = preproc)img(X_train[i])\n"
      ],
      "execution_count": 0,
      "outputs": []
    }
  ]
}